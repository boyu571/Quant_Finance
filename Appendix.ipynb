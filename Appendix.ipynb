{
 "cells": [
  {
   "cell_type": "markdown",
   "metadata": {},
   "source": [
    "## 부록\n",
    "### 각 특성 계산 방법"
   ]
  },
  {
   "cell_type": "code",
   "execution_count": null,
   "metadata": {},
   "outputs": [],
   "source": [
    "# 기본적으로 원래의 코드(winsorizing, log return 계산 등) 사용\n",
    "lags = 16  # months of lagged FC"
   ]
  },
  {
   "cell_type": "code",
   "execution_count": null,
   "metadata": {},
   "outputs": [],
   "source": [
    "# OCP\n",
    "Ca = df[\"Cash\"].iloc[1:,:]\n",
    "Ca.columns = firm_names\n",
    "FC_date = date\n",
    "\n",
    "Ca_L = Ca.shift(lags)   # 16달 lag\n",
    "\n",
    "ME = (df[\"MarketValue\"] *1000).iloc[1:,:]\n",
    "ME.columns = firm_names\n",
    "\n",
    "FC = (Ca_L/ME)\n",
    "\n",
    "FC = FC.replace([np.inf, -np.inf], np.nan)"
   ]
  },
  {
   "cell_type": "code",
   "execution_count": null,
   "metadata": {},
   "outputs": [],
   "source": [
    "# BM\n",
    "# BE = Book Equity, ME = Market Equity\n",
    "BE = df[\"CommonEquity\"].iloc[1:,:]\n",
    "BE.columns = firm_names\n",
    "FC_date = date\n",
    "\n",
    "BE_L = BE.shift(lags)   # 16달 lag\n",
    "\n",
    "ME = (df[\"MarketValue\"] *1000).iloc[1:,:]\n",
    "ME.columns = firm_names\n",
    "\n",
    "FC = (BE_L/ME)\n",
    "\n",
    "FC = FC.replace([np.inf, -np.inf], np.nan)"
   ]
  },
  {
   "cell_type": "code",
   "execution_count": null,
   "metadata": {},
   "outputs": [],
   "source": [
    "# Ola\n",
    "RD = df[\"OperatingIncome\"].iloc[1:,:]\n",
    "RD.columns = firm_names\n",
    "FC_date = date\n",
    "\n",
    "RD_L = RD.shift(lags)   # 16달 lag\n",
    "\n",
    "ME = (df[\"Total Asset\"] *1000).iloc[1:,:]\n",
    "ME.columns = firm_names\n",
    "ME_L = ME.shift(lags+12)       # 12달 lag(lagged total asset)\n",
    "\n",
    "FC = (RD_L/ME_L)\n",
    "\n",
    "FC = FC.replace([np.inf, -np.inf], np.nan)"
   ]
  },
  {
   "cell_type": "code",
   "execution_count": null,
   "metadata": {},
   "outputs": [],
   "source": [
    "# R&D\n",
    "RD = df[\"R&D\"].iloc[1:,:]\n",
    "RD.columns = firm_names\n",
    "FC_date = date\n",
    "\n",
    "RD_L = RD.shift(lags)   # 16달 lag\n",
    "\n",
    "ME = (df[\"MarketValue\"] *1000).iloc[1:,:]\n",
    "ME.columns = firm_names\n",
    "\n",
    "FC = (RD_L/ME)\n",
    "\n",
    "FC = FC.replace([np.inf, -np.inf], np.nan)"
   ]
  }
 ],
 "metadata": {
  "kernelspec": {
   "display_name": "commons",
   "language": "python",
   "name": "python3"
  },
  "language_info": {
   "name": "python",
   "version": "3.11.3"
  }
 },
 "nbformat": 4,
 "nbformat_minor": 2
}
